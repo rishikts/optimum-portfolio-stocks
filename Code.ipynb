{
  "nbformat": 4,
  "nbformat_minor": 0,
  "metadata": {
    "colab": {
      "name": "Code.ipynb",
      "provenance": [],
      "collapsed_sections": []
    },
    "kernelspec": {
      "name": "python3",
      "display_name": "Python 3"
    }
  },
  "cells": [
    {
      "cell_type": "markdown",
      "metadata": {
        "id": "SOOwVaoAACLu"
      },
      "source": [
        "df - contains Stocks Closing values & PCT\n",
        "df_excess - contains daily return"
      ]
    },
    {
      "cell_type": "code",
      "metadata": {
        "id": "lIVn1P4hLjDI"
      },
      "source": [
        "%reset -f"
      ],
      "execution_count": 1,
      "outputs": []
    },
    {
      "cell_type": "code",
      "metadata": {
        "id": "3Xbx2oYJ9gBv"
      },
      "source": [
        "import matplotlib.pyplot as plt\n",
        "import random\n",
        "from random import randint\n",
        "import numpy as np\n",
        "import pandas as pd\n",
        "import statistics\n",
        "import pandas_datareader as web\n",
        "import seaborn as sns"
      ],
      "execution_count": 2,
      "outputs": []
    },
    {
      "cell_type": "markdown",
      "metadata": {
        "id": "3JzzmIsgOPza"
      },
      "source": [
        "Importing Data from Yahoo finance"
      ]
    },
    {
      "cell_type": "code",
      "metadata": {
        "id": "jJCA1gyw-zB7"
      },
      "source": [
        "stocks=['INDIGO.NS','JETAIRWAYS.NS','ICICIBANK.NS','SBIN.NS','TATACHEM.NS','TATACOMM.NS']\n",
        "stocks_data=[]\n",
        "stocks_returns=[]\n",
        "for stock in range(len(stocks)):\n",
        "  stock=web.DataReader(stocks[stock],start='01-01-2019',end='31-12-2019',data_source='yahoo')\n",
        "  stocks_data.append(round(stock['Close'],2))"
      ],
      "execution_count": 3,
      "outputs": []
    },
    {
      "cell_type": "code",
      "metadata": {
        "id": "jQgLVS00ngMa"
      },
      "source": [
        "df_returns=pd.DataFrame()\n",
        "for stock in stocks_data:\n",
        "  each=[]\n",
        "  for i in range(1,len(stock)):\n",
        "    each.append((stock[i]-stock[i-1])/stock[i-1])\n",
        "  stocks_returns.append(each)"
      ],
      "execution_count": 4,
      "outputs": []
    },
    {
      "cell_type": "code",
      "metadata": {
        "id": "Wegd6X4I_vFq"
      },
      "source": [
        "df=pd.concat(stocks_data,axis=1)\n",
        "df_returns=pd.DataFrame.transpose(pd.DataFrame(stocks_returns))\n",
        "names=['Indigo','JetAirways','ICICI','SBI','TataChem','TataComm']\n",
        "df.columns=names\n",
        "df_returns.columns=names"
      ],
      "execution_count": 5,
      "outputs": []
    },
    {
      "cell_type": "markdown",
      "metadata": {
        "id": "94rJ_Z2e015d"
      },
      "source": [
        "Calculating Variances of each stock "
      ]
    },
    {
      "cell_type": "code",
      "metadata": {
        "id": "Hcts0e_N01de"
      },
      "source": [
        "variances=[]\n",
        "for stock in df:\n",
        "  variances.append(statistics.variance(df[stock]))"
      ],
      "execution_count": 6,
      "outputs": []
    },
    {
      "cell_type": "markdown",
      "metadata": {
        "id": "a_b_iJNLAPBD"
      },
      "source": [
        "Daily return percentages DataFrame"
      ]
    },
    {
      "cell_type": "code",
      "metadata": {
        "colab": {
          "base_uri": "https://localhost:8080/",
          "height": 195
        },
        "id": "f4f8jQSs-46j",
        "outputId": "ca596ad8-7348-4d06-a693-c5dbae0f490a"
      },
      "source": [
        "df_returns.head(5)"
      ],
      "execution_count": 7,
      "outputs": [
        {
          "output_type": "execute_result",
          "data": {
            "text/html": [
              "<div>\n",
              "<style scoped>\n",
              "    .dataframe tbody tr th:only-of-type {\n",
              "        vertical-align: middle;\n",
              "    }\n",
              "\n",
              "    .dataframe tbody tr th {\n",
              "        vertical-align: top;\n",
              "    }\n",
              "\n",
              "    .dataframe thead th {\n",
              "        text-align: right;\n",
              "    }\n",
              "</style>\n",
              "<table border=\"1\" class=\"dataframe\">\n",
              "  <thead>\n",
              "    <tr style=\"text-align: right;\">\n",
              "      <th></th>\n",
              "      <th>Indigo</th>\n",
              "      <th>JetAirways</th>\n",
              "      <th>ICICI</th>\n",
              "      <th>SBI</th>\n",
              "      <th>TataChem</th>\n",
              "      <th>TataComm</th>\n",
              "    </tr>\n",
              "  </thead>\n",
              "  <tbody>\n",
              "    <tr>\n",
              "      <th>0</th>\n",
              "      <td>-0.003946</td>\n",
              "      <td>-0.061432</td>\n",
              "      <td>0.002337</td>\n",
              "      <td>-0.019025</td>\n",
              "      <td>-0.006309</td>\n",
              "      <td>-0.001723</td>\n",
              "    </tr>\n",
              "    <tr>\n",
              "      <th>1</th>\n",
              "      <td>-0.003833</td>\n",
              "      <td>-0.062038</td>\n",
              "      <td>-0.003703</td>\n",
              "      <td>-0.009527</td>\n",
              "      <td>-0.009132</td>\n",
              "      <td>0.028100</td>\n",
              "    </tr>\n",
              "    <tr>\n",
              "      <th>2</th>\n",
              "      <td>-0.011543</td>\n",
              "      <td>-0.008091</td>\n",
              "      <td>0.005368</td>\n",
              "      <td>0.022501</td>\n",
              "      <td>0.005760</td>\n",
              "      <td>-0.008489</td>\n",
              "    </tr>\n",
              "    <tr>\n",
              "      <th>3</th>\n",
              "      <td>-0.025761</td>\n",
              "      <td>0.004078</td>\n",
              "      <td>0.006846</td>\n",
              "      <td>-0.004536</td>\n",
              "      <td>0.002076</td>\n",
              "      <td>-0.004892</td>\n",
              "    </tr>\n",
              "    <tr>\n",
              "      <th>4</th>\n",
              "      <td>-0.003098</td>\n",
              "      <td>-0.003452</td>\n",
              "      <td>0.033859</td>\n",
              "      <td>0.030375</td>\n",
              "      <td>-0.000143</td>\n",
              "      <td>-0.002364</td>\n",
              "    </tr>\n",
              "  </tbody>\n",
              "</table>\n",
              "</div>"
            ],
            "text/plain": [
              "     Indigo  JetAirways     ICICI       SBI  TataChem  TataComm\n",
              "0 -0.003946   -0.061432  0.002337 -0.019025 -0.006309 -0.001723\n",
              "1 -0.003833   -0.062038 -0.003703 -0.009527 -0.009132  0.028100\n",
              "2 -0.011543   -0.008091  0.005368  0.022501  0.005760 -0.008489\n",
              "3 -0.025761    0.004078  0.006846 -0.004536  0.002076 -0.004892\n",
              "4 -0.003098   -0.003452  0.033859  0.030375 -0.000143 -0.002364"
            ]
          },
          "metadata": {
            "tags": []
          },
          "execution_count": 7
        }
      ]
    },
    {
      "cell_type": "markdown",
      "metadata": {
        "id": "lnFT1oiVOYzS"
      },
      "source": [
        "df before appending pct"
      ]
    },
    {
      "cell_type": "code",
      "metadata": {
        "colab": {
          "base_uri": "https://localhost:8080/"
        },
        "id": "N4w_-0KRMEt0",
        "outputId": "8798fd7b-6b36-48b6-b9cd-04bb483f3e8e"
      },
      "source": [
        "covMx=pd.DataFrame.cov(df_returns)\n",
        "df.info()"
      ],
      "execution_count": 8,
      "outputs": [
        {
          "output_type": "stream",
          "text": [
            "<class 'pandas.core.frame.DataFrame'>\n",
            "DatetimeIndex: 243 entries, 2019-01-01 to 2020-01-01\n",
            "Data columns (total 6 columns):\n",
            " #   Column      Non-Null Count  Dtype  \n",
            "---  ------      --------------  -----  \n",
            " 0   Indigo      243 non-null    float64\n",
            " 1   JetAirways  243 non-null    float64\n",
            " 2   ICICI       243 non-null    float64\n",
            " 3   SBI         243 non-null    float64\n",
            " 4   TataChem    243 non-null    float64\n",
            " 5   TataComm    243 non-null    float64\n",
            "dtypes: float64(6)\n",
            "memory usage: 13.3 KB\n"
          ],
          "name": "stdout"
        }
      ]
    },
    {
      "cell_type": "code",
      "metadata": {
        "id": "7k2tiB7AH2QJ"
      },
      "source": [
        "PCT_Names=['Indigo_PCT','JetAirways_PCT','ICICI_PCT','SBI_PCT','TataChem_PCT','TataComm_PCT']\n",
        "length=len(df.columns)\n",
        "for i in range(length):\n",
        "  pct=round(df.iloc[:,i].pct_change()*100,2)\n",
        "  df.insert(2*i+1,names[i]+\"_PCT\",pct)"
      ],
      "execution_count": 9,
      "outputs": []
    },
    {
      "cell_type": "markdown",
      "metadata": {
        "id": "hcHCJ4zFOdRJ"
      },
      "source": [
        "df after appending pct"
      ]
    },
    {
      "cell_type": "code",
      "metadata": {
        "colab": {
          "base_uri": "https://localhost:8080/"
        },
        "id": "alGenxv-Du-V",
        "outputId": "a1154a01-601a-4414-9c67-f504deb37aa2"
      },
      "source": [
        "df.info()"
      ],
      "execution_count": 10,
      "outputs": [
        {
          "output_type": "stream",
          "text": [
            "<class 'pandas.core.frame.DataFrame'>\n",
            "DatetimeIndex: 243 entries, 2019-01-01 to 2020-01-01\n",
            "Data columns (total 12 columns):\n",
            " #   Column          Non-Null Count  Dtype  \n",
            "---  ------          --------------  -----  \n",
            " 0   Indigo          243 non-null    float64\n",
            " 1   Indigo_PCT      242 non-null    float64\n",
            " 2   JetAirways      243 non-null    float64\n",
            " 3   JetAirways_PCT  241 non-null    float64\n",
            " 4   ICICI           243 non-null    float64\n",
            " 5   ICICI_PCT       242 non-null    float64\n",
            " 6   SBI             243 non-null    float64\n",
            " 7   SBI_PCT         240 non-null    float64\n",
            " 8   TataChem        243 non-null    float64\n",
            " 9   TataChem_PCT    242 non-null    float64\n",
            " 10  TataComm        243 non-null    float64\n",
            " 11  TataComm_PCT    241 non-null    float64\n",
            "dtypes: float64(12)\n",
            "memory usage: 24.7 KB\n"
          ],
          "name": "stdout"
        }
      ]
    },
    {
      "cell_type": "markdown",
      "metadata": {
        "id": "j65PM8vLOjYJ"
      },
      "source": [
        "Final df "
      ]
    },
    {
      "cell_type": "code",
      "metadata": {
        "colab": {
          "base_uri": "https://localhost:8080/",
          "height": 225
        },
        "id": "XjAX_aP5__6K",
        "outputId": "d21244e9-50b3-4645-f259-8d6908328462"
      },
      "source": [
        "df.head(5)"
      ],
      "execution_count": 11,
      "outputs": [
        {
          "output_type": "execute_result",
          "data": {
            "text/html": [
              "<div>\n",
              "<style scoped>\n",
              "    .dataframe tbody tr th:only-of-type {\n",
              "        vertical-align: middle;\n",
              "    }\n",
              "\n",
              "    .dataframe tbody tr th {\n",
              "        vertical-align: top;\n",
              "    }\n",
              "\n",
              "    .dataframe thead th {\n",
              "        text-align: right;\n",
              "    }\n",
              "</style>\n",
              "<table border=\"1\" class=\"dataframe\">\n",
              "  <thead>\n",
              "    <tr style=\"text-align: right;\">\n",
              "      <th></th>\n",
              "      <th>Indigo</th>\n",
              "      <th>Indigo_PCT</th>\n",
              "      <th>JetAirways</th>\n",
              "      <th>JetAirways_PCT</th>\n",
              "      <th>ICICI</th>\n",
              "      <th>ICICI_PCT</th>\n",
              "      <th>SBI</th>\n",
              "      <th>SBI_PCT</th>\n",
              "      <th>TataChem</th>\n",
              "      <th>TataChem_PCT</th>\n",
              "      <th>TataComm</th>\n",
              "      <th>TataComm_PCT</th>\n",
              "    </tr>\n",
              "    <tr>\n",
              "      <th>Date</th>\n",
              "      <th></th>\n",
              "      <th></th>\n",
              "      <th></th>\n",
              "      <th></th>\n",
              "      <th></th>\n",
              "      <th></th>\n",
              "      <th></th>\n",
              "      <th></th>\n",
              "      <th></th>\n",
              "      <th></th>\n",
              "      <th></th>\n",
              "      <th></th>\n",
              "    </tr>\n",
              "  </thead>\n",
              "  <tbody>\n",
              "    <tr>\n",
              "      <th>2019-01-01</th>\n",
              "      <td>1165.60</td>\n",
              "      <td>NaN</td>\n",
              "      <td>280.80</td>\n",
              "      <td>NaN</td>\n",
              "      <td>363.75</td>\n",
              "      <td>NaN</td>\n",
              "      <td>299.60</td>\n",
              "      <td>NaN</td>\n",
              "      <td>705.30</td>\n",
              "      <td>NaN</td>\n",
              "      <td>522.25</td>\n",
              "      <td>NaN</td>\n",
              "    </tr>\n",
              "    <tr>\n",
              "      <th>2019-01-02</th>\n",
              "      <td>1161.00</td>\n",
              "      <td>-0.39</td>\n",
              "      <td>263.55</td>\n",
              "      <td>NaN</td>\n",
              "      <td>364.60</td>\n",
              "      <td>-6.14</td>\n",
              "      <td>293.90</td>\n",
              "      <td>NaN</td>\n",
              "      <td>700.85</td>\n",
              "      <td>0.23</td>\n",
              "      <td>521.35</td>\n",
              "      <td>NaN</td>\n",
              "    </tr>\n",
              "    <tr>\n",
              "      <th>2019-01-03</th>\n",
              "      <td>1156.55</td>\n",
              "      <td>-0.38</td>\n",
              "      <td>247.20</td>\n",
              "      <td>-2.56</td>\n",
              "      <td>363.25</td>\n",
              "      <td>-6.20</td>\n",
              "      <td>291.10</td>\n",
              "      <td>NaN</td>\n",
              "      <td>694.45</td>\n",
              "      <td>-0.37</td>\n",
              "      <td>536.00</td>\n",
              "      <td>0.98</td>\n",
              "    </tr>\n",
              "    <tr>\n",
              "      <th>2019-01-04</th>\n",
              "      <td>1143.20</td>\n",
              "      <td>-1.15</td>\n",
              "      <td>245.20</td>\n",
              "      <td>202.63</td>\n",
              "      <td>365.20</td>\n",
              "      <td>-0.81</td>\n",
              "      <td>297.65</td>\n",
              "      <td>-8015.23</td>\n",
              "      <td>698.45</td>\n",
              "      <td>0.54</td>\n",
              "      <td>531.45</td>\n",
              "      <td>-86.94</td>\n",
              "    </tr>\n",
              "    <tr>\n",
              "      <th>2019-01-07</th>\n",
              "      <td>1113.75</td>\n",
              "      <td>-2.58</td>\n",
              "      <td>246.20</td>\n",
              "      <td>124.35</td>\n",
              "      <td>367.70</td>\n",
              "      <td>0.41</td>\n",
              "      <td>296.30</td>\n",
              "      <td>-38.63</td>\n",
              "      <td>699.90</td>\n",
              "      <td>0.68</td>\n",
              "      <td>528.85</td>\n",
              "      <td>-150.62</td>\n",
              "    </tr>\n",
              "  </tbody>\n",
              "</table>\n",
              "</div>"
            ],
            "text/plain": [
              "             Indigo  Indigo_PCT  ...  TataComm  TataComm_PCT\n",
              "Date                             ...                        \n",
              "2019-01-01  1165.60         NaN  ...    522.25           NaN\n",
              "2019-01-02  1161.00       -0.39  ...    521.35           NaN\n",
              "2019-01-03  1156.55       -0.38  ...    536.00          0.98\n",
              "2019-01-04  1143.20       -1.15  ...    531.45        -86.94\n",
              "2019-01-07  1113.75       -2.58  ...    528.85       -150.62\n",
              "\n",
              "[5 rows x 12 columns]"
            ]
          },
          "metadata": {
            "tags": []
          },
          "execution_count": 11
        }
      ]
    },
    {
      "cell_type": "markdown",
      "metadata": {
        "id": "0RitCl4jOlUS"
      },
      "source": [
        "Covariance Matrix of each stock with the other"
      ]
    },
    {
      "cell_type": "code",
      "metadata": {
        "colab": {
          "base_uri": "https://localhost:8080/",
          "height": 308
        },
        "id": "I66A_wQlK0vd",
        "outputId": "56b92c1c-9c3c-4221-a420-2bfb0a2dfead"
      },
      "source": [
        "sns.heatmap(covMx,annot=True) \n",
        "plt.show()"
      ],
      "execution_count": 12,
      "outputs": [
        {
          "output_type": "display_data",
          "data": {
            "image/png": "[encoded data removed]",
            "text/plain": [
              "<Figure size 432x288 with 2 Axes>"
            ]
          },
          "metadata": {
            "tags": [],
            "needs_background": "light"
          }
        }
      ]
    },
    {
      "cell_type": "markdown",
      "metadata": {
        "id": "Xo3ifrO1dPH8"
      },
      "source": [
        "Percentage Mean Returns DataFrame"
      ]
    },
    {
      "cell_type": "code",
      "metadata": {
        "id": "gcJ9Cqe3a-vH"
      },
      "source": [
        "mean_returns=[]\n",
        "for name in names:\n",
        "  mean_returns.append(df_returns[name].mean())\n",
        "df_mean_returns=pd.DataFrame.transpose(pd.DataFrame(mean_returns))\n",
        "df_mean_returns.columns=names"
      ],
      "execution_count": 13,
      "outputs": []
    },
    {
      "cell_type": "code",
      "metadata": {
        "colab": {
          "base_uri": "https://localhost:8080/",
          "height": 77
        },
        "id": "ena2ub0AboBv",
        "outputId": "699a88c2-8fbc-49e0-c573-55789b7dde3b"
      },
      "source": [
        "df_mean_returns"
      ],
      "execution_count": 14,
      "outputs": [
        {
          "output_type": "execute_result",
          "data": {
            "text/html": [
              "<div>\n",
              "<style scoped>\n",
              "    .dataframe tbody tr th:only-of-type {\n",
              "        vertical-align: middle;\n",
              "    }\n",
              "\n",
              "    .dataframe tbody tr th {\n",
              "        vertical-align: top;\n",
              "    }\n",
              "\n",
              "    .dataframe thead th {\n",
              "        text-align: right;\n",
              "    }\n",
              "</style>\n",
              "<table border=\"1\" class=\"dataframe\">\n",
              "  <thead>\n",
              "    <tr style=\"text-align: right;\">\n",
              "      <th></th>\n",
              "      <th>Indigo</th>\n",
              "      <th>JetAirways</th>\n",
              "      <th>ICICI</th>\n",
              "      <th>SBI</th>\n",
              "      <th>TataChem</th>\n",
              "      <th>TataComm</th>\n",
              "    </tr>\n",
              "  </thead>\n",
              "  <tbody>\n",
              "    <tr>\n",
              "      <th>0</th>\n",
              "      <td>0.000863</td>\n",
              "      <td>-0.006143</td>\n",
              "      <td>0.001766</td>\n",
              "      <td>0.00069</td>\n",
              "      <td>-0.00008</td>\n",
              "      <td>-0.000543</td>\n",
              "    </tr>\n",
              "  </tbody>\n",
              "</table>\n",
              "</div>"
            ],
            "text/plain": [
              "     Indigo  JetAirways     ICICI      SBI  TataChem  TataComm\n",
              "0  0.000863   -0.006143  0.001766  0.00069  -0.00008 -0.000543"
            ]
          },
          "metadata": {
            "tags": []
          },
          "execution_count": 14
        }
      ]
    },
    {
      "cell_type": "markdown",
      "metadata": {
        "id": "FQtAJ9KEeSD7"
      },
      "source": [
        "Assigning weights randomly (Example)"
      ]
    },
    {
      "cell_type": "code",
      "metadata": {
        "colab": {
          "base_uri": "https://localhost:8080/"
        },
        "id": "Q0bDFD6wdhBU",
        "outputId": "bcba528c-564b-4bea-d4aa-89370647d677"
      },
      "source": [
        "weights=[]\n",
        "for i in range(len(names)):\n",
        "  weights.append(round(random.uniform(0,1),4))\n",
        "def sum1(k):\n",
        "  a=0\n",
        "  for i in range(len(k)):\n",
        "    a+=k[i]\n",
        "  return a\n",
        "sum=sum1(weights)\n",
        "for i in range(len(weights)):\n",
        "  weights[i]=round(weights[i]/sum,4)\n",
        "expected_returns=[]\n",
        "for i in range(len(weights)):\n",
        "  expected_returns.append(weights[i]*mean_returns[i])\n",
        "print(\"Randomly assigned weights: \",end=\" \")\n",
        "print(weights)\n",
        "print(\"Expected return by this randomly assigned weights for each stock: \",end=\" \")\n",
        "print(expected_returns)\n",
        "print(\"Expected return by this randomly assigned weights for portfolio: \",end=\" \")\n",
        "print(round(sum1(expected_returns*100)*len(df),4),end=\"\") #Since sum(expected_returns) gives return for one day for that portfolio, We want return per year\n",
        "print(\"%\")"
      ],
      "execution_count": 15,
      "outputs": [
        {
          "output_type": "stream",
          "text": [
            "Randomly assigned weights:  [0.0897, 0.0322, 0.3416, 0.0576, 0.1545, 0.3244]\n",
            "Expected return by this randomly assigned weights for each stock:  [7.737356229119771e-05, -0.00019780654550055168, 0.0006034227342305045, 3.975969438768873e-05, -1.2360757981218342e-05, -0.0001759994156167206]\n",
            "Expected return by this randomly assigned weights for portfolio:  8.1257%\n"
          ],
          "name": "stdout"
        }
      ]
    },
    {
      "cell_type": "markdown",
      "metadata": {
        "id": "hU4yJgQAPfZ0"
      },
      "source": [
        "Function for\n",
        "* Generating random portfolios \n",
        "* Compute returns(per year) for those portfolios"
      ]
    },
    {
      "cell_type": "code",
      "metadata": {
        "id": "XyWk9pRI4_JC"
      },
      "source": [
        "def random_portfolio():\n",
        "  weights=[]\n",
        "  for i in range(len(names)):\n",
        "    weights.append(round(random.uniform(0,1),4))\n",
        "  def sum1(k):\n",
        "    a=0\n",
        "    for i in range(len(k)):\n",
        "      a+=k[i]\n",
        "    return a\n",
        "  sum=sum1(weights)\n",
        "  for i in range(len(weights)):\n",
        "    weights[i]=round(weights[i]/sum,4)\n",
        "  expected_returns=[]\n",
        "  for i in range(len(weights)):\n",
        "    expected_returns.append(weights[i]*mean_returns[i])\n",
        "  returns=sum1(expected_returns*100)*len(df)\n",
        "  return weights,returns"
      ],
      "execution_count": 16,
      "outputs": []
    },
    {
      "cell_type": "markdown",
      "metadata": {
        "id": "rOJD8v6K4v-p"
      },
      "source": [
        "Function for \n",
        "* Calculating variance of a portfolio with weights given"
      ]
    },
    {
      "cell_type": "code",
      "metadata": {
        "id": "JV9eoJd2zeAv"
      },
      "source": [
        "cov=pd.DataFrame.to_numpy(covMx)\n",
        "\"\"\"def portfolio_variance(weights):\n",
        "  sum=0\n",
        "  for i in range(len(variances)):\n",
        "    sum+=weights[i]*weights[i]*variances[i]\n",
        "  weighted_avg=1\n",
        "  s=0\n",
        "  weight_sum=0\n",
        "  print(sum)\n",
        "  for i in range(1,len(weights)):\n",
        "    s+=weights[i]*weights[i-1]*cov[i][i-1]\n",
        "    weight_sum+=weights[i]*weights[i-1]\n",
        "  s=s/weight_sum\n",
        "  weighted_avg=s\n",
        "  return sum+2*weighted_avg\"\"\"\n",
        "def portfolio_variance(weights):\n",
        "  return np.dot(np.array(weights).T,np.dot(cov,weights))"
      ],
      "execution_count": 17,
      "outputs": []
    },
    {
      "cell_type": "code",
      "metadata": {
        "id": "jf3MwVyQ5zG-"
      },
      "source": [
        "iters=1000\n",
        "Returns=[]\n",
        "Volatility=[]\n",
        "for i in range(iters):\n",
        "  weights,returns=random_portfolio()\n",
        "  var=portfolio_variance(weights)\n",
        "  Returns.append(returns)\n",
        "  Volatility.append(var)\n",
        "frame=pd.DataFrame({\"Returns\":Returns,\"Volatility\":Volatility})"
      ],
      "execution_count": 18,
      "outputs": []
    },
    {
      "cell_type": "code",
      "metadata": {
        "colab": {
          "base_uri": "https://localhost:8080/",
          "height": 195
        },
        "id": "YkAIhDHD4y9a",
        "outputId": "4f39f0e4-eebd-467e-fcb1-6e647a325304"
      },
      "source": [
        "frame.head(5)"
      ],
      "execution_count": 19,
      "outputs": [
        {
          "output_type": "execute_result",
          "data": {
            "text/html": [
              "<div>\n",
              "<style scoped>\n",
              "    .dataframe tbody tr th:only-of-type {\n",
              "        vertical-align: middle;\n",
              "    }\n",
              "\n",
              "    .dataframe tbody tr th {\n",
              "        vertical-align: top;\n",
              "    }\n",
              "\n",
              "    .dataframe thead th {\n",
              "        text-align: right;\n",
              "    }\n",
              "</style>\n",
              "<table border=\"1\" class=\"dataframe\">\n",
              "  <thead>\n",
              "    <tr style=\"text-align: right;\">\n",
              "      <th></th>\n",
              "      <th>Returns</th>\n",
              "      <th>Volatility</th>\n",
              "    </tr>\n",
              "  </thead>\n",
              "  <tbody>\n",
              "    <tr>\n",
              "      <th>0</th>\n",
              "      <td>-19.068447</td>\n",
              "      <td>0.000392</td>\n",
              "    </tr>\n",
              "    <tr>\n",
              "      <th>1</th>\n",
              "      <td>3.623791</td>\n",
              "      <td>0.000222</td>\n",
              "    </tr>\n",
              "    <tr>\n",
              "      <th>2</th>\n",
              "      <td>-9.079136</td>\n",
              "      <td>0.000298</td>\n",
              "    </tr>\n",
              "    <tr>\n",
              "      <th>3</th>\n",
              "      <td>-1.013924</td>\n",
              "      <td>0.000226</td>\n",
              "    </tr>\n",
              "    <tr>\n",
              "      <th>4</th>\n",
              "      <td>13.397619</td>\n",
              "      <td>0.000163</td>\n",
              "    </tr>\n",
              "  </tbody>\n",
              "</table>\n",
              "</div>"
            ],
            "text/plain": [
              "     Returns  Volatility\n",
              "0 -19.068447    0.000392\n",
              "1   3.623791    0.000222\n",
              "2  -9.079136    0.000298\n",
              "3  -1.013924    0.000226\n",
              "4  13.397619    0.000163"
            ]
          },
          "metadata": {
            "tags": []
          },
          "execution_count": 19
        }
      ]
    },
    {
      "cell_type": "code",
      "metadata": {
        "colab": {
          "base_uri": "https://localhost:8080/",
          "height": 295
        },
        "id": "6ePXnBum7A0P",
        "outputId": "d6509303-69f0-40dc-cfcf-4ce22eba9333"
      },
      "source": [
        "plt.scatter(frame['Volatility'],frame['Returns'])\n",
        "plt.title(\"Returns vs Volatility\")\n",
        "plt.xlabel(\"Volatility(Variance)\")\n",
        "plt.ylabel(\"Returns per year\")\n",
        "plt.show()"
      ],
      "execution_count": 20,
      "outputs": [
        {
          "output_type": "display_data",
          "data": {
            "image/png": "[encoded data removed]",
            "text/plain": [
              "<Figure size 432x288 with 1 Axes>"
            ]
          },
          "metadata": {
            "tags": [],
            "needs_background": "light"
          }
        }
      ]
    },
    {
      "cell_type": "markdown",
      "metadata": {
        "id": "nl_mG5Ai5dEI"
      },
      "source": [
        "Calculating Sharpe and appending in the frame dataframe"
      ]
    },
    {
      "cell_type": "code",
      "metadata": {
        "id": "cA-ZvdI_4T86"
      },
      "source": [
        "sharpe=[]\n",
        "for i in range(len(frame)):\n",
        "  ret=frame.iloc[i,0]\n",
        "  vol=frame.iloc[i,1]\n",
        "  sharpe.append((ret-4)/np.sqrt(vol))   #Assuming 4% is risk free return rate\n",
        "frame['Sharpe']=sharpe"
      ],
      "execution_count": 21,
      "outputs": []
    },
    {
      "cell_type": "code",
      "metadata": {
        "colab": {
          "base_uri": "https://localhost:8080/",
          "height": 195
        },
        "id": "CFqXkuM85Xhg",
        "outputId": "3d4a284f-aec1-469b-b7e4-b8109f4df64b"
      },
      "source": [
        "frame.head(5)"
      ],
      "execution_count": 22,
      "outputs": [
        {
          "output_type": "execute_result",
          "data": {
            "text/html": [
              "<div>\n",
              "<style scoped>\n",
              "    .dataframe tbody tr th:only-of-type {\n",
              "        vertical-align: middle;\n",
              "    }\n",
              "\n",
              "    .dataframe tbody tr th {\n",
              "        vertical-align: top;\n",
              "    }\n",
              "\n",
              "    .dataframe thead th {\n",
              "        text-align: right;\n",
              "    }\n",
              "</style>\n",
              "<table border=\"1\" class=\"dataframe\">\n",
              "  <thead>\n",
              "    <tr style=\"text-align: right;\">\n",
              "      <th></th>\n",
              "      <th>Returns</th>\n",
              "      <th>Volatility</th>\n",
              "      <th>Sharpe</th>\n",
              "    </tr>\n",
              "  </thead>\n",
              "  <tbody>\n",
              "    <tr>\n",
              "      <th>0</th>\n",
              "      <td>-19.068447</td>\n",
              "      <td>0.000392</td>\n",
              "      <td>-1164.390540</td>\n",
              "    </tr>\n",
              "    <tr>\n",
              "      <th>1</th>\n",
              "      <td>3.623791</td>\n",
              "      <td>0.000222</td>\n",
              "      <td>-25.246637</td>\n",
              "    </tr>\n",
              "    <tr>\n",
              "      <th>2</th>\n",
              "      <td>-9.079136</td>\n",
              "      <td>0.000298</td>\n",
              "      <td>-758.108171</td>\n",
              "    </tr>\n",
              "    <tr>\n",
              "      <th>3</th>\n",
              "      <td>-1.013924</td>\n",
              "      <td>0.000226</td>\n",
              "      <td>-333.398590</td>\n",
              "    </tr>\n",
              "    <tr>\n",
              "      <th>4</th>\n",
              "      <td>13.397619</td>\n",
              "      <td>0.000163</td>\n",
              "      <td>737.042672</td>\n",
              "    </tr>\n",
              "  </tbody>\n",
              "</table>\n",
              "</div>"
            ],
            "text/plain": [
              "     Returns  Volatility       Sharpe\n",
              "0 -19.068447    0.000392 -1164.390540\n",
              "1   3.623791    0.000222   -25.246637\n",
              "2  -9.079136    0.000298  -758.108171\n",
              "3  -1.013924    0.000226  -333.398590\n",
              "4  13.397619    0.000163   737.042672"
            ]
          },
          "metadata": {
            "tags": []
          },
          "execution_count": 22
        }
      ]
    },
    {
      "cell_type": "markdown",
      "metadata": {
        "id": "4zhCCx4i6UG4"
      },
      "source": [
        "Finding the best portfolio"
      ]
    },
    {
      "cell_type": "code",
      "metadata": {
        "colab": {
          "base_uri": "https://localhost:8080/",
          "height": 77
        },
        "id": "22FHPM4m5hlg",
        "outputId": "7809b87b-72c2-453d-fa5e-d6d3dd2ba305"
      },
      "source": [
        "ind=frame[frame['Sharpe']==frame['Sharpe'].max()].index.values #Finding the index of the portfolio with max Sharpe ratio\n",
        "frame.iloc[ind,:]"
      ],
      "execution_count": 23,
      "outputs": [
        {
          "output_type": "execute_result",
          "data": {
            "text/html": [
              "<div>\n",
              "<style scoped>\n",
              "    .dataframe tbody tr th:only-of-type {\n",
              "        vertical-align: middle;\n",
              "    }\n",
              "\n",
              "    .dataframe tbody tr th {\n",
              "        vertical-align: top;\n",
              "    }\n",
              "\n",
              "    .dataframe thead th {\n",
              "        text-align: right;\n",
              "    }\n",
              "</style>\n",
              "<table border=\"1\" class=\"dataframe\">\n",
              "  <thead>\n",
              "    <tr style=\"text-align: right;\">\n",
              "      <th></th>\n",
              "      <th>Returns</th>\n",
              "      <th>Volatility</th>\n",
              "      <th>Sharpe</th>\n",
              "    </tr>\n",
              "  </thead>\n",
              "  <tbody>\n",
              "    <tr>\n",
              "      <th>345</th>\n",
              "      <td>23.241635</td>\n",
              "      <td>0.000199</td>\n",
              "      <td>1362.627645</td>\n",
              "    </tr>\n",
              "  </tbody>\n",
              "</table>\n",
              "</div>"
            ],
            "text/plain": [
              "       Returns  Volatility       Sharpe\n",
              "345  23.241635    0.000199  1362.627645"
            ]
          },
          "metadata": {
            "tags": []
          },
          "execution_count": 23
        }
      ]
    },
    {
      "cell_type": "code",
      "metadata": {
        "colab": {
          "base_uri": "https://localhost:8080/",
          "height": 295
        },
        "id": "ETzNTljN6lvd",
        "outputId": "26586a40-6f98-4ad9-b187-cbbb771fed7b"
      },
      "source": [
        "col=[]\n",
        "for i in range(len(frame)):\n",
        "  if(i==ind): col.append('red')\n",
        "  else: col.append('b')\n",
        "for i in range(len(frame)):\n",
        "  plt.scatter(frame.iloc[i,1]*100,frame.iloc[i,0],c=col[i])\n",
        "plt.xlabel(\"Volatility x 10^(2) -->\")\n",
        "plt.ylabel(\"Returns-->\")\n",
        "plt.title(\"Returns vs Volatility\")\n",
        "plt.show()"
      ],
      "execution_count": 24,
      "outputs": [
        {
          "output_type": "display_data",
          "data": {
            "image/png": "[encoded data removed]",
            "text/plain": [
              "<Figure size 432x288 with 1 Axes>"
            ]
          },
          "metadata": {
            "tags": [],
            "needs_background": "light"
          }
        }
      ]
    },
    {
      "cell_type": "code",
      "metadata": {
        "colab": {
          "base_uri": "https://localhost:8080/"
        },
        "id": "SUo-ByFKwaTN",
        "outputId": "1e816340-c8a3-4451-8433-b15de0aceb2d"
      },
      "source": [
        "sim_returns=[]\n",
        "for i in range(1000):\n",
        "  sim_returns.append(np.random.normal(frame['Returns'].iloc[ind]/240,np.sqrt(frame['Volatility'].iloc[ind]/240),5000))\n",
        "print(\"VAR 95 = \",end=\"\")\n",
        "print(np.percentile(sim_returns,95))\n",
        "print(\"VAR 99 = \",end=\"\")\n",
        "print(np.percentile(sim_returns,99))"
      ],
      "execution_count": 25,
      "outputs": [
        {
          "output_type": "stream",
          "text": [
            "VAR 95 = 0.09833932453689416\n",
            "VAR 99 = 0.0989618472014522\n"
          ],
          "name": "stdout"
        }
      ]
    }
  ]
}